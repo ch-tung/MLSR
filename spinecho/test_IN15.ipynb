{
 "cells": [
  {
   "cell_type": "code",
   "execution_count": 1,
   "id": "1094a159",
   "metadata": {},
   "outputs": [],
   "source": [
    "import numpy as np\n",
    "from scipy.linalg import cho_solve, cho_factor\n",
    "import matplotlib.pyplot as plt\n",
    "import matplotlib\n",
    "cmap = 'bwr'\n",
    "\n",
    "from PIL import Image"
   ]
  },
  {
   "cell_type": "code",
   "execution_count": 13,
   "id": "b5582811",
   "metadata": {},
   "outputs": [
    {
     "name": "stdout",
     "output_type": "stream",
     "text": [
      "['SampleName', 'TuneWave', 'numor', 'Average', 'averErr', 'Pol', 'PolErr', 'Echo_khi', 'phmap_stddev', 'phmap_khi', 'MonRate', 'TempSa', 'TempSaErr', 'TempRg', 'TempRgErr', 'Selector', 'Lambda', 'Angle']\n",
      "25C:\n",
      "  Temperatures: ['24.99995' '25' '25.00005' '25.000099' '25.000248' '25.000198'\n",
      " '24.999901' '24.999851' '24.999802']\n",
      "  Durations: [25  5 10 50]\n",
      "  Wavelengths: ['12' '10' '8' '6']\n",
      "\n",
      "10C:\n",
      "  Temperatures: ['10.00005' '12.600346' '9.999703' '10.000099' '10.002921' '10.000545'\n",
      " '10.001683' '9.9984158' '10.000644' '10.001782' '10.000495' '10.001436'\n",
      " '9.9996535' '9.999802' '10.000198' '10.000149']\n",
      "  Durations: [25  5 10 50]\n",
      "  Wavelengths: ['10' '12' '6' '8']\n",
      "\n",
      "40C:\n",
      "  Temperatures: ['40.000247' '39.996535' '39.999852' '40' '39.999951' '39.999208'\n",
      " '39.999753' '39.999406' '40.000049' '40.000198' '39.999752' '40.000099']\n",
      "  Durations: [ 5 10 25 50]\n",
      "  Wavelengths: ['10' '12' '6' '8']\n",
      "\n"
     ]
    }
   ],
   "source": [
    "import pandas as pd\n",
    "import re\n",
    "\n",
    "## load and print data labels\n",
    "filename_label = \"./data/IN15/numorsumarytablenew.txt\"\n",
    "with open(filename_label, 'r') as f:\n",
    "    labels = f.read().splitlines()\n",
    "\n",
    "# Split the first line as header, the rest as data\n",
    "header = [col for col in labels[0].split('\\t') if col != 'x/y']\n",
    "# Remove the empty column (the third column, index 2)\n",
    "data = [ [entry for entry in row.split('\\t') if entry != ''] for row in labels[1:] ]\n",
    "\n",
    "df_labels = pd.DataFrame(data, columns=header)\n",
    "print(header)\n",
    "# print(df_labels[df_labels['numor'].astype(str).str.startswith('3')]['numor'])\n",
    "data_25C = df_labels[df_labels['SampleName'].str.startswith('Dendrimer') & df_labels['numor'].astype(str).str.startswith('3')]\n",
    "data_10C = df_labels[df_labels['SampleName'].str.startswith('lt_Dendrimer') & df_labels['numor'].astype(str).str.startswith('3')]\n",
    "data_40C = df_labels[df_labels['SampleName'].str.startswith('ht_Dendrimer') & df_labels['numor'].astype(str).str.startswith('3')]\n",
    "data_25C.loc[:, 'SampleName'] = data_25C['SampleName'].str.replace(r'^Dendrimer$', 'Dendrimer_25', regex=True)\n",
    "\n",
    "# Extract temperature, measurement duration, and wavelength from data_25C\n",
    "\n",
    "def extract_duration(sample_name):\n",
    "    match = re.search(r'_(\\d+)$', sample_name)\n",
    "    return int(match.group(1)) if match else None\n",
    "\n",
    "summary = []\n",
    "for df, label in zip([data_25C, data_10C, data_40C], ['25C', '10C', '40C']):\n",
    "    temps = df['TempSa'].unique()\n",
    "    durations = df['SampleName'].apply(extract_duration).unique()\n",
    "    wavelengths = df['Lambda'].unique()\n",
    "    summary.append({\n",
    "        'Label': label,\n",
    "        'Temperatures': temps,\n",
    "        'Durations': durations,\n",
    "        'Wavelengths': wavelengths\n",
    "    })\n",
    "\n",
    "for s in summary:\n",
    "    print(f\"{s['Label']}:\")\n",
    "    print(f\"  Temperatures: {s['Temperatures']}\")\n",
    "    print(f\"  Durations: {s['Durations']}\")\n",
    "    print(f\"  Wavelengths: {s['Wavelengths']}\\n\")\n"
   ]
  },
  {
   "cell_type": "code",
   "execution_count": 34,
   "id": "1532982a",
   "metadata": {},
   "outputs": [],
   "source": [
    "duration_list = np.unique([extract_duration(name) for name in data_25C['SampleName']])\n",
    "conf_list = np.unique(data_25C['Lambda'])\n",
    "rebin_list = [3, 6, 9]"
   ]
  },
  {
   "cell_type": "markdown",
   "id": "ccb42385",
   "metadata": {},
   "source": [
    "## 25C"
   ]
  },
  {
   "cell_type": "code",
   "execution_count": 45,
   "id": "829c27a9",
   "metadata": {},
   "outputs": [],
   "source": [
    "data = data_25C.copy()\n",
    "path = \"./data/IN15/T25/\"\n",
    "rebin = rebin_list[2]"
   ]
  },
  {
   "cell_type": "code",
   "execution_count": 46,
   "id": "b692a86f",
   "metadata": {},
   "outputs": [],
   "source": [
    "for duration in duration_list:\n",
    "    Q_list = []\n",
    "    for conf in conf_list:\n",
    "        # Find the row in data_25C matching duration and Lambda (conf)\n",
    "        row = data[(data['SampleName'].str.endswith(f'_{duration}')) & (data['Lambda'] == str(conf))]\n",
    "        numor = row.iloc[0]['numor']\n",
    "        filename_e = path+f\"sl{rebin}/MD_e_{numor}.txt\"\n",
    "        filename_AP = path+f\"sl{rebin}/MD_AP_{numor}.txt\"\n",
    "\n",
    "        # Load the data from filename_AP and extract the Q values and other columns\n",
    "        # The data file has a header and a line \"Tof channel: 0\" before the data\n",
    "        # So skip the first 2 lines (header + \"Tof channel: 0\")\n",
    "        data_AP = np.loadtxt(filename_AP, skiprows=2)\n",
    "        Q = data_AP[:, 0]\n",
    "        average = data_AP[:, 1]\n",
    "        averErr = data_AP[:, 2]\n",
    "        pol = data_AP[:, 3]\n",
    "        polErr = data_AP[:, 4]\n",
    "\n",
    "        Q_list.append(Q)"
   ]
  },
  {
   "cell_type": "code",
   "execution_count": 47,
   "id": "cb8bc414",
   "metadata": {},
   "outputs": [
    {
     "data": {
      "text/plain": [
       "[array([0.045665, 0.049401, 0.05291 , 0.056409, 0.059883, 0.063386,\n",
       "        0.0669  , 0.070395, 0.07402 ]),\n",
       " array([0.020299, 0.023592, 0.02645 , 0.029244, 0.032091, 0.034935,\n",
       "        0.037812, 0.040704, 0.043652]),\n",
       " array([0.11217, 0.1183 , 0.12421, 0.13006, 0.13589, 0.14179, 0.14765,\n",
       "        0.15349, 0.15961]),\n",
       " array([0.077346, 0.081959, 0.086387, 0.090768, 0.095134, 0.099556,\n",
       "        0.10395 , 0.10833 , 0.11291 ])]"
      ]
     },
     "execution_count": 47,
     "metadata": {},
     "output_type": "execute_result"
    }
   ],
   "source": [
    "Q_list"
   ]
  },
  {
   "cell_type": "code",
   "execution_count": null,
   "id": "4f9e83b9",
   "metadata": {},
   "outputs": [],
   "source": []
  }
 ],
 "metadata": {
  "kernelspec": {
   "display_name": "torch",
   "language": "python",
   "name": "python3"
  },
  "language_info": {
   "codemirror_mode": {
    "name": "ipython",
    "version": 3
   },
   "file_extension": ".py",
   "mimetype": "text/x-python",
   "name": "python",
   "nbconvert_exporter": "python",
   "pygments_lexer": "ipython3",
   "version": "3.9.7"
  }
 },
 "nbformat": 4,
 "nbformat_minor": 5
}
