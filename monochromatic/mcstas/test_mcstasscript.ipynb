{
 "cells": [
  {
   "cell_type": "code",
   "execution_count": 1,
   "id": "866dccfd",
   "metadata": {},
   "outputs": [
    {
     "name": "stdout",
     "output_type": "stream",
     "text": [
      "Configurator:\n",
      " paths:\n",
      "  mcrun_path: /SNS/users/ccu/.local/share/mamba/envs/mcstas/bin/\n",
      "  mcstas_path: /SNS/users/ccu/.local/share/mamba/envs/mcstas/bin/\n",
      "  mcxtrace_path: /Applications/McXtrace-1.5.app/Contents/Resources/mcxtrace/1.5/\n",
      "  mxrun_path: /Applications/McXtrace-1.5.app/Contents/Resources/mcxtrace/1.5/bin/\n",
      " other:\n",
      "  characters_per_line: 85\n",
      "\n"
     ]
    }
   ],
   "source": [
    "import matplotlib.pyplot as plt\n",
    "\n",
    "from mcstasscript.interface.instr import McStas_instr\n",
    "from mcstasscript.helper.mcstas_objects import Component\n",
    "import mcstasscript as ms\n",
    "import os\n",
    "\n",
    "# Expand the home directory and make path absolute\n",
    "mcrun_path = os.path.expanduser(\"~/.local/share/mamba/envs/mcstas/bin/\")\n",
    "mcstas_path = os.path.expanduser(\"~/.local/share/mamba/envs/mcstas/bin/\")\n",
    "# Initialize configurator\n",
    "my_configurator = ms.Configurator()\n",
    "my_configurator.set_mcrun_path(mcrun_path)\n",
    "my_configurator.set_mcstas_path(mcstas_path)\n",
    "# Print for confirmation\n",
    "print(my_configurator)"
   ]
  },
  {
   "cell_type": "code",
   "execution_count": 2,
   "id": "2cbe212c",
   "metadata": {},
   "outputs": [],
   "source": [
    "# Define instrument\n",
    "instr = McStas_instr(\"ILL_H512_D22\")\n",
    "\n",
    "# Add input parameters\n",
    "instr.add_parameter(\"lambda\", value=10)\n",
    "instr.add_parameter(\"dlambda\", value=10)\n",
    "instr.add_parameter(\"D22_collimation\", value=2)\n",
    "instr.add_parameter(\"D22_nu\", value=300)\n",
    "\n",
    "# DECLARE variables\n",
    "instr.add_declare_var(\"double\", \"sT3\", value=413.5)\n",
    "instr.add_declare_var(\"double\", \"sI3\", value=10.22e12)\n",
    "instr.add_declare_var(\"double\", \"sT2\", value=145.8)\n",
    "instr.add_declare_var(\"double\", \"sI2\", value=3.44e13)\n",
    "instr.add_declare_var(\"double\", \"sT1\", value=40.1)\n",
    "instr.add_declare_var(\"double\", \"sI1\", value=2.78e13)\n",
    "instr.add_declare_var(\"double\", \"gR0\", value=1)\n",
    "instr.add_declare_var(\"double\", \"gQc\", value=0.0216)\n",
    "instr.add_declare_var(\"double\", \"gAlpha\", value=4.07)\n",
    "instr.add_declare_var(\"double\", \"gW\", value=1.0 / 300.0)\n",
    "instr.add_declare_var(\"double\", \"Al_Thickness\", value=0.001)\n",
    "instr.add_declare_var(\"double\", \"gGap\", value=0.001)\n",
    "instr.add_declare_var(\"double\", \"flag\", value=0)\n",
    "\n",
    "# COMPONENTS\n",
    "origin = instr.add_component(\"Origin\", \"Progress_bar\")\n",
    "origin.set_AT([0, 0, 0], RELATIVE=\"ABSOLUTE\")\n",
    "\n",
    "source = instr.add_component(\"HCS\", \"Source_gen\")\n",
    "source.set_parameters(\n",
    "    radius=0.21/2,\n",
    "    zdepth=0.15,\n",
    "    dist=2.155,\n",
    "    focus_xw=0.123,\n",
    "    focus_yh=0.120,\n",
    "    lambda0=\"lambda\",\n",
    "    dlambda=\"dlambda\",\n",
    "    T1=\"sT1\", I1=\"sI1\",\n",
    "    T2=\"sT2\", I2=\"sI2\",\n",
    "    T3=\"sT3\", I3=\"sI3\",\n",
    "    verbose=1\n",
    ")\n",
    "source.set_AT([0, 0, 0], RELATIVE=\"Origin\")\n",
    "\n",
    "# vsel = instr.add_component(\"D22_Vselector\", \"V_selector\")\n",
    "# vsel.set_parameters(\n",
    "#     xwidth=0.04,\n",
    "#     yheight=0.05,\n",
    "#     zdepth=0.30,\n",
    "#     radius=0.12,\n",
    "#     alpha=48.3,\n",
    "#     length=0.25,\n",
    "#     d=0.0004,\n",
    "#     nu=\"D22_nu\",\n",
    "#     nslit=72\n",
    "# )\n",
    "# vsel.set_AT([0.05, 0, 1], RELATIVE=\"PREVIOUS\")\n",
    "\n",
    "monitor = instr.add_component(\"l_monitor\", \"L_monitor\")\n",
    "monitor.set_parameters(\n",
    "    nL=100,\n",
    "    filename='\"test_l_monitor\"',\n",
    "    xwidth=0.1,\n",
    "    yheight=0.1,\n",
    "    Lmin=0,\n",
    "    Lmax=15\n",
    ")\n",
    "monitor.set_AT([0, 0, 10], RELATIVE=\"ABSOLUTE\")\n"
   ]
  },
  {
   "cell_type": "code",
   "execution_count": 3,
   "id": "e2af433a",
   "metadata": {},
   "outputs": [
    {
     "name": "stdout",
     "output_type": "stream",
     "text": [
      "\n",
      "INFO: Using directory: \"/SNS/users/ccu/Documents/MLSR/monochromatic/mcstas/test_output_0\"\n",
      "INFO: Regenerating c-file: ILL_H512_D22.c\n",
      "CFLAGS=\n",
      "\n",
      "-----------------------------------------------------------\n",
      "\n",
      "Generating single GPU kernel or single CPU section layout: \n",
      "\n",
      "-----------------------------------------------------------\n",
      "\n",
      "Generating GPU/CPU -DFUNNEL layout:\n",
      "\n",
      "-----------------------------------------------------------\n",
      "INFO: Recompiling: ./ILL_H512_D22.out\n",
      "INFO: ===\n",
      "[ILL_H512_D22] Initialize\n",
      "Source_gen: component HCS (square 0.1 x 0.1)\n",
      "            focusing distance dist=2.155 area=0.123 x 0.12\n",
      "            spectra 0.000 to 20.000 AA (0.205 to inf meV)\n",
      "            T1=40.1 K (4.865 AA), T2=145.8 K (2.552 AA), T3=413.5 K (1.515 AA)\n",
      "  Flux is dPhi/dlambda in [n/s/cm2].\n",
      "\n",
      "Trace ETA (single process) 15 [s] \n",
      "72 %\n",
      "80 %\n",
      "90 %\n",
      "*** TRACE end *** \n",
      "\n",
      "Save [ILL_H512_D22]\n",
      "Detector: l_monitor_I=1.70991e+12 l_monitor_ERR=2.46694e+09 l_monitor_N=1.6118e+06 \"test_l_monitor.dat\"\n",
      "\n",
      "Finally [ILL_H512_D22: /SNS/users/ccu/Documents/MLSR/monochromatic/mcstas/test_output_0]. Time: 14 [s] \n",
      "INFO: Placing instr file copy ILL_H512_D22.instr in dataset /SNS/users/ccu/Documents/MLSR/monochromatic/mcstas/test_output_0\n",
      "INFO: Placing generated c-code copy ILL_H512_D22.c in dataset /SNS/users/ccu/Documents/MLSR/monochromatic/mcstas/test_output_0\n",
      "\n"
     ]
    }
   ],
   "source": [
    "instr.set_parameters(D22_nu=250)\n",
    "instr.settings(ncount=1E8, output_path=\"test_output\")\n",
    "\n",
    "data = instr.backengine()"
   ]
  },
  {
   "cell_type": "code",
   "execution_count": 4,
   "id": "6c8e2627",
   "metadata": {},
   "outputs": [
    {
     "name": "stdout",
     "output_type": "stream",
     "text": [
      "['Error', 'Intensity', 'Ncount', 'data_type', 'metadata', 'name', 'original_data_location', 'plot_options', 'xaxis']\n"
     ]
    },
    {
     "data": {
      "text/plain": [
       "Text(0, 0.5, 'Intensity ($\\\\mathrm{n}/\\\\mathrm{s}/\\\\mathrm{cm}^2$)')"
      ]
     },
     "execution_count": 4,
     "metadata": {},
     "output_type": "execute_result"
    },
    {
     "data": {
      "image/png": "[encoded data removed]",
      "text/plain": [
       "<Figure size 500x500 with 1 Axes>"
      ]
     },
     "metadata": {},
     "output_type": "display_data"
    }
   ],
   "source": [
    "l_monitor_data = ms.name_search(\"l_monitor\", data)\n",
    "print([attr for attr in dir(l_monitor_data) if not callable(getattr(l_monitor_data, attr)) and not attr.startswith(\"_\")])\n",
    "\n",
    "fig = plt.figure(figsize=(5,5))\n",
    "ax = fig.add_subplot(111)\n",
    "\n",
    "ax.plot(l_monitor_data.xaxis, l_monitor_data.Intensity, label=\"Counts\")\n",
    "ax.set_xlabel(r\"Wavelength ($\\mathrm{\\AA}$)\")\n",
    "ax.set_ylabel(r\"Intensity ($\\mathrm{n}/\\mathrm{s}/\\mathrm{cm}^2$)\")"
   ]
  },
  {
   "cell_type": "code",
   "execution_count": null,
   "id": "828e1a98",
   "metadata": {},
   "outputs": [],
   "source": []
  },
  {
   "cell_type": "code",
   "execution_count": null,
   "id": "844f0bdd",
   "metadata": {},
   "outputs": [],
   "source": []
  }
 ],
 "metadata": {
  "kernelspec": {
   "display_name": "mcstas",
   "language": "python",
   "name": "python3"
  },
  "language_info": {
   "codemirror_mode": {
    "name": "ipython",
    "version": 3
   },
   "file_extension": ".py",
   "mimetype": "text/x-python",
   "name": "python",
   "nbconvert_exporter": "python",
   "pygments_lexer": "ipython3",
   "version": "3.13.5"
  }
 },
 "nbformat": 4,
 "nbformat_minor": 5
}
